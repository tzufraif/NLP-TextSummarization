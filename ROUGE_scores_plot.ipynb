{
  "cells": [
    {
      "cell_type": "markdown",
      "source": [
        "##preprocessing "
      ],
      "metadata": {
        "id": "UjR6E_kCxD4L"
      }
    },
    {
      "cell_type": "code",
      "source": [
        "import pandas as pd\n",
        "df=pd.read_csv('/content/tfidf_seperate_rouge.csv')\n",
        "df.head()"
      ],
      "metadata": {
        "colab": {
          "base_uri": "https://localhost:8080/",
          "height": 0
        },
        "id": "6daFeB_XsFrx",
        "outputId": "93893fdd-d77f-4e5a-8ee0-e1820d139142"
      },
      "execution_count": 95,
      "outputs": [
        {
          "output_type": "execute_result",
          "data": {
            "text/plain": [
              "   Unnamed: 0  Unnamed: 0.1  Unnamed: 0.1.1  \\\n",
              "0           0             0           24663   \n",
              "1           1             1          141443   \n",
              "2           2             2           79056   \n",
              "3           3             3          190852   \n",
              "4           4             4           27412   \n",
              "\n",
              "                                   rouge_score_tfidf  \\\n",
              "0  {'rouge1': Score(precision=0.03636363636363636...   \n",
              "1  {'rouge1': Score(precision=0.04854368932038835...   \n",
              "2  {'rouge1': Score(precision=0.3208955223880597,...   \n",
              "3  {'rouge1': Score(precision=0.225, recall=0.562...   \n",
              "4  {'rouge1': Score(precision=0.25, recall=0.5454...   \n",
              "\n",
              "                                              rouge1  \\\n",
              "0  [0.03636363636363636, 0.18181818181818182, 0.0...   \n",
              "1  [0.04854368932038835, 0.2631578947368421, 0.08...   \n",
              "2  [0.3208955223880597, 0.4174757281553398, 0.362...   \n",
              "3                [0.225, 0.5625, 0.3214285714285714]   \n",
              "4    [0.25, 0.5454545454545454, 0.34285714285714286]   \n",
              "\n",
              "                                              rouge2  \\\n",
              "0                              ['0.0', '0.0', '0.0']   \n",
              "1  ['0.029411764705882353', '0.16666666666666666'...   \n",
              "2  ['0.07518796992481203', '0.09803921568627451',...   \n",
              "3  ['0.03361344537815126', '0.0851063829787234', ...   \n",
              "4  ['0.07042253521126761', '0.15625', '0.09708737...   \n",
              "\n",
              "                                              rougeL      rouge1_precision  \\\n",
              "0  ['0.03636363636363636', '0.18181818181818182',...  [0.03636363636363636   \n",
              "1  ['0.038834951456310676', '0.21052631578947367'...  [0.04854368932038835   \n",
              "2  ['0.1417910447761194', '0.18446601941747573', ...   [0.3208955223880597   \n",
              "3  ['0.14166666666666666', '0.3541666666666667', ...                [0.225   \n",
              "4  ['0.1527777777777778', '0.3333333333333333', '...                 [0.25   \n",
              "\n",
              "   rouge1_recall               rouge1_f         rouge2_precision  \\\n",
              "0       0.181818    0.0606060606060606]                   ['0.0'   \n",
              "1       0.263158    0.0819672131147541]  ['0.029411764705882353'   \n",
              "2       0.417476   0.36286919831223624]   ['0.07518796992481203'   \n",
              "3       0.562500    0.3214285714285714]   ['0.03361344537815126'   \n",
              "4       0.545455   0.34285714285714286]   ['0.07042253521126761'   \n",
              "\n",
              "            rouge2_recall                  rouge2_f         rougeL_precision  \\\n",
              "0                   '0.0'                    '0.0']   ['0.03636363636363636'   \n",
              "1   '0.16666666666666666'                   '0.05']  ['0.038834951456310676'   \n",
              "2   '0.09803921568627451'     '0.0851063829787234']    ['0.1417910447761194'   \n",
              "3    '0.0851063829787234'   '0.048192771084337345']   ['0.14166666666666666'   \n",
              "4               '0.15625'     '0.0970873786407767']    ['0.1527777777777778'   \n",
              "\n",
              "            rougeL_recall                 rougeL_f  \n",
              "0   '0.18181818181818182'    '0.0606060606060606']  \n",
              "1   '0.21052631578947367'   '0.06557377049180328']  \n",
              "2   '0.18446601941747573'   '0.16033755274261605']  \n",
              "3    '0.3541666666666667'   '0.20238095238095238']  \n",
              "4    '0.3333333333333333'   '0.20952380952380956']  "
            ],
            "text/html": [
              "\n",
              "  <div id=\"df-10361464-a72a-4313-8107-91848ee409e7\">\n",
              "    <div class=\"colab-df-container\">\n",
              "      <div>\n",
              "<style scoped>\n",
              "    .dataframe tbody tr th:only-of-type {\n",
              "        vertical-align: middle;\n",
              "    }\n",
              "\n",
              "    .dataframe tbody tr th {\n",
              "        vertical-align: top;\n",
              "    }\n",
              "\n",
              "    .dataframe thead th {\n",
              "        text-align: right;\n",
              "    }\n",
              "</style>\n",
              "<table border=\"1\" class=\"dataframe\">\n",
              "  <thead>\n",
              "    <tr style=\"text-align: right;\">\n",
              "      <th></th>\n",
              "      <th>Unnamed: 0</th>\n",
              "      <th>Unnamed: 0.1</th>\n",
              "      <th>Unnamed: 0.1.1</th>\n",
              "      <th>rouge_score_tfidf</th>\n",
              "      <th>rouge1</th>\n",
              "      <th>rouge2</th>\n",
              "      <th>rougeL</th>\n",
              "      <th>rouge1_precision</th>\n",
              "      <th>rouge1_recall</th>\n",
              "      <th>rouge1_f</th>\n",
              "      <th>rouge2_precision</th>\n",
              "      <th>rouge2_recall</th>\n",
              "      <th>rouge2_f</th>\n",
              "      <th>rougeL_precision</th>\n",
              "      <th>rougeL_recall</th>\n",
              "      <th>rougeL_f</th>\n",
              "    </tr>\n",
              "  </thead>\n",
              "  <tbody>\n",
              "    <tr>\n",
              "      <th>0</th>\n",
              "      <td>0</td>\n",
              "      <td>0</td>\n",
              "      <td>24663</td>\n",
              "      <td>{'rouge1': Score(precision=0.03636363636363636...</td>\n",
              "      <td>[0.03636363636363636, 0.18181818181818182, 0.0...</td>\n",
              "      <td>['0.0', '0.0', '0.0']</td>\n",
              "      <td>['0.03636363636363636', '0.18181818181818182',...</td>\n",
              "      <td>[0.03636363636363636</td>\n",
              "      <td>0.181818</td>\n",
              "      <td>0.0606060606060606]</td>\n",
              "      <td>['0.0'</td>\n",
              "      <td>'0.0'</td>\n",
              "      <td>'0.0']</td>\n",
              "      <td>['0.03636363636363636'</td>\n",
              "      <td>'0.18181818181818182'</td>\n",
              "      <td>'0.0606060606060606']</td>\n",
              "    </tr>\n",
              "    <tr>\n",
              "      <th>1</th>\n",
              "      <td>1</td>\n",
              "      <td>1</td>\n",
              "      <td>141443</td>\n",
              "      <td>{'rouge1': Score(precision=0.04854368932038835...</td>\n",
              "      <td>[0.04854368932038835, 0.2631578947368421, 0.08...</td>\n",
              "      <td>['0.029411764705882353', '0.16666666666666666'...</td>\n",
              "      <td>['0.038834951456310676', '0.21052631578947367'...</td>\n",
              "      <td>[0.04854368932038835</td>\n",
              "      <td>0.263158</td>\n",
              "      <td>0.0819672131147541]</td>\n",
              "      <td>['0.029411764705882353'</td>\n",
              "      <td>'0.16666666666666666'</td>\n",
              "      <td>'0.05']</td>\n",
              "      <td>['0.038834951456310676'</td>\n",
              "      <td>'0.21052631578947367'</td>\n",
              "      <td>'0.06557377049180328']</td>\n",
              "    </tr>\n",
              "    <tr>\n",
              "      <th>2</th>\n",
              "      <td>2</td>\n",
              "      <td>2</td>\n",
              "      <td>79056</td>\n",
              "      <td>{'rouge1': Score(precision=0.3208955223880597,...</td>\n",
              "      <td>[0.3208955223880597, 0.4174757281553398, 0.362...</td>\n",
              "      <td>['0.07518796992481203', '0.09803921568627451',...</td>\n",
              "      <td>['0.1417910447761194', '0.18446601941747573', ...</td>\n",
              "      <td>[0.3208955223880597</td>\n",
              "      <td>0.417476</td>\n",
              "      <td>0.36286919831223624]</td>\n",
              "      <td>['0.07518796992481203'</td>\n",
              "      <td>'0.09803921568627451'</td>\n",
              "      <td>'0.0851063829787234']</td>\n",
              "      <td>['0.1417910447761194'</td>\n",
              "      <td>'0.18446601941747573'</td>\n",
              "      <td>'0.16033755274261605']</td>\n",
              "    </tr>\n",
              "    <tr>\n",
              "      <th>3</th>\n",
              "      <td>3</td>\n",
              "      <td>3</td>\n",
              "      <td>190852</td>\n",
              "      <td>{'rouge1': Score(precision=0.225, recall=0.562...</td>\n",
              "      <td>[0.225, 0.5625, 0.3214285714285714]</td>\n",
              "      <td>['0.03361344537815126', '0.0851063829787234', ...</td>\n",
              "      <td>['0.14166666666666666', '0.3541666666666667', ...</td>\n",
              "      <td>[0.225</td>\n",
              "      <td>0.562500</td>\n",
              "      <td>0.3214285714285714]</td>\n",
              "      <td>['0.03361344537815126'</td>\n",
              "      <td>'0.0851063829787234'</td>\n",
              "      <td>'0.048192771084337345']</td>\n",
              "      <td>['0.14166666666666666'</td>\n",
              "      <td>'0.3541666666666667'</td>\n",
              "      <td>'0.20238095238095238']</td>\n",
              "    </tr>\n",
              "    <tr>\n",
              "      <th>4</th>\n",
              "      <td>4</td>\n",
              "      <td>4</td>\n",
              "      <td>27412</td>\n",
              "      <td>{'rouge1': Score(precision=0.25, recall=0.5454...</td>\n",
              "      <td>[0.25, 0.5454545454545454, 0.34285714285714286]</td>\n",
              "      <td>['0.07042253521126761', '0.15625', '0.09708737...</td>\n",
              "      <td>['0.1527777777777778', '0.3333333333333333', '...</td>\n",
              "      <td>[0.25</td>\n",
              "      <td>0.545455</td>\n",
              "      <td>0.34285714285714286]</td>\n",
              "      <td>['0.07042253521126761'</td>\n",
              "      <td>'0.15625'</td>\n",
              "      <td>'0.0970873786407767']</td>\n",
              "      <td>['0.1527777777777778'</td>\n",
              "      <td>'0.3333333333333333'</td>\n",
              "      <td>'0.20952380952380956']</td>\n",
              "    </tr>\n",
              "  </tbody>\n",
              "</table>\n",
              "</div>\n",
              "      <button class=\"colab-df-convert\" onclick=\"convertToInteractive('df-10361464-a72a-4313-8107-91848ee409e7')\"\n",
              "              title=\"Convert this dataframe to an interactive table.\"\n",
              "              style=\"display:none;\">\n",
              "        \n",
              "  <svg xmlns=\"http://www.w3.org/2000/svg\" height=\"24px\"viewBox=\"0 0 24 24\"\n",
              "       width=\"24px\">\n",
              "    <path d=\"M0 0h24v24H0V0z\" fill=\"none\"/>\n",
              "    <path d=\"M18.56 5.44l.94 2.06.94-2.06 2.06-.94-2.06-.94-.94-2.06-.94 2.06-2.06.94zm-11 1L8.5 8.5l.94-2.06 2.06-.94-2.06-.94L8.5 2.5l-.94 2.06-2.06.94zm10 10l.94 2.06.94-2.06 2.06-.94-2.06-.94-.94-2.06-.94 2.06-2.06.94z\"/><path d=\"M17.41 7.96l-1.37-1.37c-.4-.4-.92-.59-1.43-.59-.52 0-1.04.2-1.43.59L10.3 9.45l-7.72 7.72c-.78.78-.78 2.05 0 2.83L4 21.41c.39.39.9.59 1.41.59.51 0 1.02-.2 1.41-.59l7.78-7.78 2.81-2.81c.8-.78.8-2.07 0-2.86zM5.41 20L4 18.59l7.72-7.72 1.47 1.35L5.41 20z\"/>\n",
              "  </svg>\n",
              "      </button>\n",
              "      \n",
              "  <style>\n",
              "    .colab-df-container {\n",
              "      display:flex;\n",
              "      flex-wrap:wrap;\n",
              "      gap: 12px;\n",
              "    }\n",
              "\n",
              "    .colab-df-convert {\n",
              "      background-color: #E8F0FE;\n",
              "      border: none;\n",
              "      border-radius: 50%;\n",
              "      cursor: pointer;\n",
              "      display: none;\n",
              "      fill: #1967D2;\n",
              "      height: 32px;\n",
              "      padding: 0 0 0 0;\n",
              "      width: 32px;\n",
              "    }\n",
              "\n",
              "    .colab-df-convert:hover {\n",
              "      background-color: #E2EBFA;\n",
              "      box-shadow: 0px 1px 2px rgba(60, 64, 67, 0.3), 0px 1px 3px 1px rgba(60, 64, 67, 0.15);\n",
              "      fill: #174EA6;\n",
              "    }\n",
              "\n",
              "    [theme=dark] .colab-df-convert {\n",
              "      background-color: #3B4455;\n",
              "      fill: #D2E3FC;\n",
              "    }\n",
              "\n",
              "    [theme=dark] .colab-df-convert:hover {\n",
              "      background-color: #434B5C;\n",
              "      box-shadow: 0px 1px 3px 1px rgba(0, 0, 0, 0.15);\n",
              "      filter: drop-shadow(0px 1px 2px rgba(0, 0, 0, 0.3));\n",
              "      fill: #FFFFFF;\n",
              "    }\n",
              "  </style>\n",
              "\n",
              "      <script>\n",
              "        const buttonEl =\n",
              "          document.querySelector('#df-10361464-a72a-4313-8107-91848ee409e7 button.colab-df-convert');\n",
              "        buttonEl.style.display =\n",
              "          google.colab.kernel.accessAllowed ? 'block' : 'none';\n",
              "\n",
              "        async function convertToInteractive(key) {\n",
              "          const element = document.querySelector('#df-10361464-a72a-4313-8107-91848ee409e7');\n",
              "          const dataTable =\n",
              "            await google.colab.kernel.invokeFunction('convertToInteractive',\n",
              "                                                     [key], {});\n",
              "          if (!dataTable) return;\n",
              "\n",
              "          const docLinkHtml = 'Like what you see? Visit the ' +\n",
              "            '<a target=\"_blank\" href=https://colab.research.google.com/notebooks/data_table.ipynb>data table notebook</a>'\n",
              "            + ' to learn more about interactive tables.';\n",
              "          element.innerHTML = '';\n",
              "          dataTable['output_type'] = 'display_data';\n",
              "          await google.colab.output.renderOutput(dataTable, element);\n",
              "          const docLink = document.createElement('div');\n",
              "          docLink.innerHTML = docLinkHtml;\n",
              "          element.appendChild(docLink);\n",
              "        }\n",
              "      </script>\n",
              "    </div>\n",
              "  </div>\n",
              "  "
            ]
          },
          "metadata": {},
          "execution_count": 95
        }
      ]
    },
    {
      "cell_type": "code",
      "source": [
        "methods=['precision','recall','f']\n",
        "for met in methods:\n",
        "  for i in ['1','2','L']:\n",
        "    if i=='1' and met=='recall':\n",
        "      break\n",
        "    else:\n",
        "      df[f'rouge{i}_{met}_float']=df[f'rouge{i}_{met}'].apply(lambda x: float(x.replace('[','').replace(\"'\",'').replace(']','')))\n"
      ],
      "metadata": {
        "id": "UIXeZa29st48"
      },
      "execution_count": 96,
      "outputs": []
    },
    {
      "cell_type": "code",
      "source": [
        "methods=['precision','recall','f']\n",
        "for met in methods:\n",
        "  for i in ['1','2','L']:\n",
        "    print(type(df[f'rouge{i}_{met}'][0]))"
      ],
      "metadata": {
        "colab": {
          "base_uri": "https://localhost:8080/"
        },
        "id": "4rhgqrSbux6c",
        "outputId": "c69df5bc-a7d8-4f06-c572-ad74afa7ab5d"
      },
      "execution_count": 97,
      "outputs": [
        {
          "output_type": "stream",
          "name": "stdout",
          "text": [
            "<class 'str'>\n",
            "<class 'str'>\n",
            "<class 'str'>\n",
            "<class 'numpy.float64'>\n",
            "<class 'str'>\n",
            "<class 'str'>\n",
            "<class 'str'>\n",
            "<class 'str'>\n",
            "<class 'str'>\n"
          ]
        }
      ]
    },
    {
      "cell_type": "code",
      "source": [
        "cols=[]\n",
        "for i in ['1','2','L']:\n",
        "  for met in ['precision','recall','f']:\n",
        "    if i=='1' and met=='recall':\n",
        "      continue\n",
        "    cols.append(f'rouge{i}_{met}')\n",
        "    "
      ],
      "metadata": {
        "id": "fho83f7iv3gh"
      },
      "execution_count": 98,
      "outputs": []
    },
    {
      "cell_type": "code",
      "source": [
        "cols"
      ],
      "metadata": {
        "colab": {
          "base_uri": "https://localhost:8080/"
        },
        "id": "zqQTN8tfwoCl",
        "outputId": "7fd94868-976c-450c-83e6-e72a4c170154"
      },
      "execution_count": 99,
      "outputs": [
        {
          "output_type": "execute_result",
          "data": {
            "text/plain": [
              "['rouge1_precision',\n",
              " 'rouge1_f',\n",
              " 'rouge2_precision',\n",
              " 'rouge2_recall',\n",
              " 'rouge2_f',\n",
              " 'rougeL_precision',\n",
              " 'rougeL_recall',\n",
              " 'rougeL_f']"
            ]
          },
          "metadata": {},
          "execution_count": 99
        }
      ]
    },
    {
      "cell_type": "code",
      "source": [
        "def converttofloat(text):\n",
        "  return float(text.replace('[','').replace(\"'\",'').replace(']',''))"
      ],
      "metadata": {
        "id": "5R_MfagHvqj4"
      },
      "execution_count": 100,
      "outputs": []
    },
    {
      "cell_type": "code",
      "source": [
        "for col in cols:\n",
        "  df[f'{col}_float']=df[col].apply(converttofloat)"
      ],
      "metadata": {
        "id": "d8s9oqPkwr8W"
      },
      "execution_count": 101,
      "outputs": []
    },
    {
      "cell_type": "code",
      "source": [
        "for col in cols:\n",
        "  print(type(df[f'{col}_float'][0]))"
      ],
      "metadata": {
        "colab": {
          "base_uri": "https://localhost:8080/"
        },
        "id": "XhkOgS50w2C8",
        "outputId": "e9ca394b-0d9e-4b04-b0eb-a100b6e756d0"
      },
      "execution_count": 102,
      "outputs": [
        {
          "output_type": "stream",
          "name": "stdout",
          "text": [
            "<class 'numpy.float64'>\n",
            "<class 'numpy.float64'>\n",
            "<class 'numpy.float64'>\n",
            "<class 'numpy.float64'>\n",
            "<class 'numpy.float64'>\n",
            "<class 'numpy.float64'>\n",
            "<class 'numpy.float64'>\n",
            "<class 'numpy.float64'>\n"
          ]
        }
      ]
    },
    {
      "cell_type": "code",
      "source": [
        "data={}\n",
        "data['tfidf']=[(df['rouge1_precision_float'].mean(),df['rouge1_recall'].mean(),df['rouge1_f_float'].mean()),(df['rouge2_precision_float'].mean(),df['rouge2_recall_float'].mean(),df['rouge2_f_float'].mean()),(df['rougeL_precision_float'].mean(),df['rougeL_recall_float'].mean(),df['rougeL_f_float'].mean())]"
      ],
      "metadata": {
        "id": "hGFJM-qVxJRz"
      },
      "execution_count": 103,
      "outputs": []
    },
    {
      "cell_type": "code",
      "source": [
        "df=pd.read_csv('/content/embd_seperate_rouge.csv')"
      ],
      "metadata": {
        "id": "Qq_wwhX3y3C7"
      },
      "execution_count": 104,
      "outputs": []
    },
    {
      "cell_type": "code",
      "source": [
        "methods=['precision','recall','f']\n",
        "for met in methods:\n",
        "  for i in ['1','2','L']:\n",
        "    print(type(df[f'rouge{i}_{met}'][0]))"
      ],
      "metadata": {
        "colab": {
          "base_uri": "https://localhost:8080/"
        },
        "id": "ABCJRctAy-H0",
        "outputId": "17193900-ae54-449d-afd5-21b351accb5b"
      },
      "execution_count": 105,
      "outputs": [
        {
          "output_type": "stream",
          "name": "stdout",
          "text": [
            "<class 'str'>\n",
            "<class 'str'>\n",
            "<class 'str'>\n",
            "<class 'numpy.float64'>\n",
            "<class 'str'>\n",
            "<class 'str'>\n",
            "<class 'str'>\n",
            "<class 'str'>\n",
            "<class 'str'>\n"
          ]
        }
      ]
    },
    {
      "cell_type": "code",
      "source": [
        "for col in cols:\n",
        "  df[f'{col}_float']=df[col].apply(converttofloat)"
      ],
      "metadata": {
        "id": "CjVbtwWFzEI9"
      },
      "execution_count": 106,
      "outputs": []
    },
    {
      "cell_type": "code",
      "source": [
        "data['embd']=[]\n",
        "data['embd']=[(df['rouge1_precision_float'].mean(),df['rouge1_recall'].mean(),df['rouge1_f_float'].mean()),(df['rouge2_precision_float'].mean(),df['rouge2_recall_float'].mean(),df['rouge2_f_float'].mean()),(df['rougeL_precision_float'].mean(),df['rougeL_recall_float'].mean(),df['rougeL_f_float'].mean())]\n"
      ],
      "metadata": {
        "id": "5Mn2bI0GzP0s"
      },
      "execution_count": 107,
      "outputs": []
    },
    {
      "cell_type": "code",
      "source": [
        "df=pd.read_csv('/content/t5_seperate_rouge.csv')\n"
      ],
      "metadata": {
        "id": "9QQykQ8wzgEq"
      },
      "execution_count": 108,
      "outputs": []
    },
    {
      "cell_type": "code",
      "source": [
        "methods=['precision','recall','f']\n",
        "for met in methods:\n",
        "  for i in ['1','2','L']:\n",
        "    print(type(df[f'rouge{i}_{met}'][0]))"
      ],
      "metadata": {
        "colab": {
          "base_uri": "https://localhost:8080/"
        },
        "id": "E5ggNNJfznRy",
        "outputId": "30c83493-64ce-4c94-8252-793b689bfa2d"
      },
      "execution_count": 109,
      "outputs": [
        {
          "output_type": "stream",
          "name": "stdout",
          "text": [
            "<class 'str'>\n",
            "<class 'str'>\n",
            "<class 'str'>\n",
            "<class 'numpy.float64'>\n",
            "<class 'str'>\n",
            "<class 'str'>\n",
            "<class 'str'>\n",
            "<class 'str'>\n",
            "<class 'str'>\n"
          ]
        }
      ]
    },
    {
      "cell_type": "code",
      "source": [
        "for col in cols:\n",
        "  df[f'{col}_float']=df[col].apply(converttofloat)"
      ],
      "metadata": {
        "id": "t2a59SBbzsXO"
      },
      "execution_count": 110,
      "outputs": []
    },
    {
      "cell_type": "code",
      "source": [
        "data['t5']=[]\n",
        "data['t5']=[(df['rouge1_precision_float'].mean(),df['rouge1_recall'].mean(),df['rouge1_f_float'].mean()),(df['rouge2_precision_float'].mean(),df['rouge2_recall_float'].mean(),df['rouge2_f_float'].mean()),(df['rougeL_precision_float'].mean(),df['rougeL_recall_float'].mean(),df['rougeL_f_float'].mean())]\n"
      ],
      "metadata": {
        "id": "zgNF1GL0zvub"
      },
      "execution_count": 111,
      "outputs": []
    },
    {
      "cell_type": "code",
      "source": [
        "df=pd.read_csv('/content/hybrid_seperate_rouge.csv')\n"
      ],
      "metadata": {
        "id": "LXQs4ULLz6Y1"
      },
      "execution_count": 112,
      "outputs": []
    },
    {
      "cell_type": "code",
      "source": [
        "methods=['precision','recall','f']\n",
        "for met in methods:\n",
        "  for i in ['1','2','L']:\n",
        "    print(type(df[f'rouge{i}_{met}'][0]))"
      ],
      "metadata": {
        "colab": {
          "base_uri": "https://localhost:8080/"
        },
        "id": "ugn2zrB80Dq0",
        "outputId": "5965b5e1-c204-4ce3-bb11-076a61813eec"
      },
      "execution_count": 113,
      "outputs": [
        {
          "output_type": "stream",
          "name": "stdout",
          "text": [
            "<class 'str'>\n",
            "<class 'str'>\n",
            "<class 'str'>\n",
            "<class 'numpy.float64'>\n",
            "<class 'str'>\n",
            "<class 'str'>\n",
            "<class 'str'>\n",
            "<class 'str'>\n",
            "<class 'str'>\n"
          ]
        }
      ]
    },
    {
      "cell_type": "code",
      "source": [
        "for col in cols:\n",
        "  df[f'{col}_float']=df[col].apply(converttofloat)"
      ],
      "metadata": {
        "id": "dERwJ32q0E-j"
      },
      "execution_count": 114,
      "outputs": []
    },
    {
      "cell_type": "code",
      "source": [
        "data['hybrid']=[]\n",
        "data['hybrid']=[(df['rouge1_precision_float'].mean(),df['rouge1_recall'].mean(),df['rouge1_f_float'].mean()),(df['rouge2_precision_float'].mean(),df['rouge2_recall_float'].mean(),df['rouge2_f_float'].mean()),(df['rougeL_precision_float'].mean(),df['rougeL_recall_float'].mean(),df['rougeL_f_float'].mean())]\n"
      ],
      "metadata": {
        "id": "3txNXFoD0IHM"
      },
      "execution_count": 115,
      "outputs": []
    },
    {
      "cell_type": "markdown",
      "source": [
        "#taking the dictionary and make plots"
      ],
      "metadata": {
        "id": "TVf2y5jZ0cB-"
      }
    },
    {
      "cell_type": "code",
      "source": [
        "import matplotlib.pyplot as plt\n",
        "#at this point, we have a dicionary where keys are methods (it can be tfidf/embd etc or even methods differ by thier 'k' paramater in extractive for hybrid)\n",
        "#for each key, the value is a list contains of 3 tuples. the tuples represent rouge1,rouge2 and rougeL.\n",
        "#each tuple consist: (precision,recall,f)\n",
        "#all you need now is to take the values according to the desired metric, for example: the code below takes [0][0] and hence it calculate rouge1 precision"
      ],
      "metadata": {
        "id": "ZYyKAwlF0QVe"
      },
      "execution_count": 116,
      "outputs": []
    },
    {
      "cell_type": "markdown",
      "source": [
        "###rouge1"
      ],
      "metadata": {
        "id": "VEzM1wAtxhUz"
      }
    },
    {
      "cell_type": "code",
      "source": [
        "#rouge1- precision\n",
        "\n",
        "methods=['tfidf','embd','t5','hybrid']\n",
        "values=[]\n",
        "for met in methods:\n",
        "  values.append(data[met][0][0])\n",
        "values\n",
        "\n",
        "plt.bar(methods,values)\n",
        "plt.title('rouge1 precision')\n",
        "plt.show()"
      ],
      "metadata": {
        "colab": {
          "base_uri": "https://localhost:8080/",
          "height": 281
        },
        "id": "0UVeXTzk0kmz",
        "outputId": "29cd9194-9304-40f4-b327-615570ee8c39"
      },
      "execution_count": 117,
      "outputs": [
        {
          "output_type": "display_data",
          "data": {
            "text/plain": [
              "<Figure size 432x288 with 1 Axes>"
            ],
            "image/png": "[encoded data removed]"
          },
          "metadata": {
            "needs_background": "light"
          }
        }
      ]
    },
    {
      "cell_type": "code",
      "source": [
        "#rouge1- recall\n",
        "\n",
        "methods=['tfidf','embd','t5','hybrid']\n",
        "values=[]\n",
        "for met in methods:\n",
        "  values.append(data[met][0][1])\n",
        "values\n",
        "\n",
        "plt.bar(methods,values)\n",
        "plt.title('rouge1 recall')\n",
        "plt.show()"
      ],
      "metadata": {
        "colab": {
          "base_uri": "https://localhost:8080/",
          "height": 281
        },
        "id": "qqpmNuQJxmRw",
        "outputId": "1182594d-ab2d-43ea-a2a3-c012f2bd4ccb"
      },
      "execution_count": 120,
      "outputs": [
        {
          "output_type": "display_data",
          "data": {
            "text/plain": [
              "<Figure size 432x288 with 1 Axes>"
            ],
            "image/png": "[encoded data removed]"
          },
          "metadata": {
            "needs_background": "light"
          }
        }
      ]
    },
    {
      "cell_type": "code",
      "source": [
        "#rouge1- f1\n",
        "\n",
        "methods=['tfidf','embd','t5','hybrid']\n",
        "values=[]\n",
        "for met in methods:\n",
        "  values.append(data[met][0][2])\n",
        "values\n",
        "\n",
        "plt.bar(methods,values)\n",
        "plt.title('rouge1 f1')\n",
        "plt.show()"
      ],
      "metadata": {
        "colab": {
          "base_uri": "https://localhost:8080/",
          "height": 281
        },
        "id": "OFaWyH7ZxuGS",
        "outputId": "95e72ef9-a28e-480f-a10e-9f789360afe9"
      },
      "execution_count": 121,
      "outputs": [
        {
          "output_type": "display_data",
          "data": {
            "text/plain": [
              "<Figure size 432x288 with 1 Axes>"
            ],
            "image/png": "[encoded data removed]"
          },
          "metadata": {
            "needs_background": "light"
          }
        }
      ]
    },
    {
      "cell_type": "markdown",
      "source": [
        "###rouge2"
      ],
      "metadata": {
        "id": "XFZjXXWrxely"
      }
    },
    {
      "cell_type": "code",
      "source": [
        "#rouge2- precision\n",
        "\n",
        "methods=['tfidf','embd','t5','hybrid']\n",
        "values=[]\n",
        "for met in methods:\n",
        "  values.append(data[met][1][0])\n",
        "values\n",
        "\n",
        "plt.bar(methods,values)\n",
        "plt.title('rouge2 precision')\n",
        "plt.show()"
      ],
      "metadata": {
        "colab": {
          "base_uri": "https://localhost:8080/",
          "height": 281
        },
        "id": "SlaeuKnrw9Az",
        "outputId": "1101ffdd-78cb-4623-995e-33450b00b3a4"
      },
      "execution_count": 118,
      "outputs": [
        {
          "output_type": "display_data",
          "data": {
            "text/plain": [
              "<Figure size 432x288 with 1 Axes>"
            ],
            "image/png": "[encoded data removed]"
          },
          "metadata": {
            "needs_background": "light"
          }
        }
      ]
    },
    {
      "cell_type": "code",
      "source": [
        "#rouge2- recall\n",
        "\n",
        "methods=['tfidf','embd','t5','hybrid']\n",
        "values=[]\n",
        "for met in methods:\n",
        "  values.append(data[met][1][1])\n",
        "values\n",
        "\n",
        "plt.bar(methods,values)\n",
        "plt.title('rouge2 recall')\n",
        "plt.show()"
      ],
      "metadata": {
        "colab": {
          "base_uri": "https://localhost:8080/",
          "height": 281
        },
        "id": "E6cj1RRGx2oO",
        "outputId": "9fc83035-f81f-4ddb-e0fa-552d04d26edd"
      },
      "execution_count": 122,
      "outputs": [
        {
          "output_type": "display_data",
          "data": {
            "text/plain": [
              "<Figure size 432x288 with 1 Axes>"
            ],
            "image/png": "[encoded data removed]"
          },
          "metadata": {
            "needs_background": "light"
          }
        }
      ]
    },
    {
      "cell_type": "code",
      "source": [
        "#rouge2- f1\n",
        "\n",
        "methods=['tfidf','embd','t5','hybrid']\n",
        "values=[]\n",
        "for met in methods:\n",
        "  values.append(data[met][1][2])\n",
        "values\n",
        "\n",
        "plt.bar(methods,values)\n",
        "plt.title('rouge2 f1')\n",
        "plt.show()"
      ],
      "metadata": {
        "colab": {
          "base_uri": "https://localhost:8080/",
          "height": 281
        },
        "id": "TgxVZ_v-x6e2",
        "outputId": "594e000a-2cd9-4ea4-c557-c0003e153e41"
      },
      "execution_count": 123,
      "outputs": [
        {
          "output_type": "display_data",
          "data": {
            "text/plain": [
              "<Figure size 432x288 with 1 Axes>"
            ],
            "image/png": "[encoded data removed]"
          },
          "metadata": {
            "needs_background": "light"
          }
        }
      ]
    },
    {
      "cell_type": "markdown",
      "source": [
        "###rougeL"
      ],
      "metadata": {
        "id": "SQlrbkvWxZui"
      }
    },
    {
      "cell_type": "code",
      "source": [
        "#rougeL- precision\n",
        "\n",
        "methods=['tfidf','embd','t5','hybrid']\n",
        "values=[]\n",
        "for met in methods:\n",
        "  values.append(data[met][2][0])\n",
        "values\n",
        "\n",
        "plt.bar(methods,values)\n",
        "plt.title('rougeL precision')\n",
        "plt.show()"
      ],
      "metadata": {
        "colab": {
          "base_uri": "https://localhost:8080/",
          "height": 281
        },
        "id": "syEDASuVxRi8",
        "outputId": "9c48cb25-0160-4aae-8c33-83fe7f6fc039"
      },
      "execution_count": 119,
      "outputs": [
        {
          "output_type": "display_data",
          "data": {
            "text/plain": [
              "<Figure size 432x288 with 1 Axes>"
            ],
            "image/png": "[encoded data removed]"
          },
          "metadata": {
            "needs_background": "light"
          }
        }
      ]
    },
    {
      "cell_type": "code",
      "source": [
        "#rougeL- recall\n",
        "\n",
        "methods=['tfidf','embd','t5','hybrid']\n",
        "values=[]\n",
        "for met in methods:\n",
        "  values.append(data[met][2][1])\n",
        "values\n",
        "\n",
        "plt.bar(methods,values)\n",
        "plt.title('rougeL recall')\n",
        "plt.show()"
      ],
      "metadata": {
        "colab": {
          "base_uri": "https://localhost:8080/",
          "height": 281
        },
        "id": "Rq9k58-NyBig",
        "outputId": "e6530185-cd09-4bee-effe-8f8341ffc947"
      },
      "execution_count": 124,
      "outputs": [
        {
          "output_type": "display_data",
          "data": {
            "text/plain": [
              "<Figure size 432x288 with 1 Axes>"
            ],
            "image/png": "[encoded data removed]"
          },
          "metadata": {
            "needs_background": "light"
          }
        }
      ]
    },
    {
      "cell_type": "code",
      "source": [
        "#rougeL- f1\n",
        "\n",
        "methods=['tfidf','embd','t5','hybrid']\n",
        "values=[]\n",
        "for met in methods:\n",
        "  values.append(data[met][2][2])\n",
        "values\n",
        "\n",
        "plt.bar(methods,values)\n",
        "plt.title('rougeL f1')\n",
        "plt.show()"
      ],
      "metadata": {
        "colab": {
          "base_uri": "https://localhost:8080/",
          "height": 281
        },
        "id": "VIPehEO7yGcT",
        "outputId": "87a73a0e-557b-47c3-c966-81e6a9409572"
      },
      "execution_count": 125,
      "outputs": [
        {
          "output_type": "display_data",
          "data": {
            "text/plain": [
              "<Figure size 432x288 with 1 Axes>"
            ],
            "image/png": "[encoded data removed]"
          },
          "metadata": {
            "needs_background": "light"
          }
        }
      ]
    },
    {
      "cell_type": "code",
      "source": [
        "methods"
      ],
      "metadata": {
        "colab": {
          "base_uri": "https://localhost:8080/"
        },
        "id": "_oWsPw8C1CLW",
        "outputId": "3e863cc7-1baf-42db-a3ca-cd1f134852f3"
      },
      "execution_count": 129,
      "outputs": [
        {
          "output_type": "execute_result",
          "data": {
            "text/plain": [
              "['tfidf', 'embd', 't5', 'hybrid']"
            ]
          },
          "metadata": {},
          "execution_count": 129
        }
      ]
    },
    {
      "cell_type": "code",
      "source": [
        "def change_method(method):\n",
        "  if method == 'tfidf':\n",
        "    return 'EX-tfidf'\n",
        "  if method == 'embd':\n",
        "    return 'EX-embbeded'\n",
        "  if method == 't5':\n",
        "    return 'AB-T5'\n",
        "  if method == 'hybrid':\n",
        "    return 'Hybrid-TIM'"
      ],
      "metadata": {
        "id": "yHj5oY-34dpf"
      },
      "execution_count": 141,
      "outputs": []
    },
    {
      "cell_type": "code",
      "source": [
        "print(\"{:<13} {:<10} {:<10} {:<10} {:<10}\".format('Method','ROUGE','Precision', 'Recall', 'F1'))\n",
        "for met in methods:\n",
        "  k=1\n",
        "  while k<4:\n",
        "    precision = data[met][k-1][0]\n",
        "    recall = data[met][k-1][1]\n",
        "    f1 = data[met][k-1][2]\n",
        "    temp = k\n",
        "    if k==3:\n",
        "      temp= 'L'\n",
        "    k +=1\n",
        "    method = change_method(met)\n",
        "    print(\"{:<13} {:<10} {:<10} {:<10} {:<10}\".format(method, 'ROUGE' + str(temp), '{:.4f}'.format(precision), '{:.4f}'.format(recall),'{:.4f}'.format(f1)))"
      ],
      "metadata": {
        "colab": {
          "base_uri": "https://localhost:8080/"
        },
        "id": "uqCG7PVf0Dze",
        "outputId": "26d9a66e-64f8-4024-86e6-ab83d55d5796"
      },
      "execution_count": 154,
      "outputs": [
        {
          "output_type": "stream",
          "name": "stdout",
          "text": [
            "Method        ROUGE      Precision  Recall     F1        \n",
            "EX-tfidf      ROUGE1     0.2235     0.4759     0.2678    \n",
            "EX-tfidf      ROUGE2     0.0561     0.1251     0.0678    \n",
            "EX-tfidf      ROUGEL     0.1325     0.3101     0.1634    \n",
            "EX-embbeded   ROUGE1     0.2237     0.4696     0.2670    \n",
            "EX-embbeded   ROUGE2     0.0549     0.1215     0.0661    \n",
            "EX-embbeded   ROUGEL     0.1319     0.3043     0.1620    \n",
            "AB-T5         ROUGE1     0.4278     0.3400     0.3457    \n",
            "AB-T5         ROUGE2     0.1468     0.1187     0.1200    \n",
            "AB-T5         ROUGEL     0.3099     0.2508     0.2528    \n",
            "Hybrid- TIM   ROUGE1     0.4333     0.3358     0.3445    \n",
            "Hybrid- TIM   ROUGE2     0.1483     0.1174     0.1197    \n",
            "Hybrid- TIM   ROUGEL     0.3151     0.2490     0.2531    \n"
          ]
        }
      ]
    },
    {
      "cell_type": "markdown",
      "source": [
        "#same proccess now for the plot of hybrid different K's"
      ],
      "metadata": {
        "id": "Z5yHDhsfQ5qP"
      }
    },
    {
      "cell_type": "code",
      "source": [
        "import pandas as pd\n",
        "df=pd.read_csv('/content/hybrid_30_seperate_rouge.csv')\n"
      ],
      "metadata": {
        "id": "B5FfG01dREsh"
      },
      "execution_count": 75,
      "outputs": []
    },
    {
      "cell_type": "code",
      "source": [
        "methods=['precision','recall','f']\n",
        "for met in methods:\n",
        "  for i in ['1','2','L']:\n",
        "    print(type(df[f'rouge{i}_{met}'][0]))"
      ],
      "metadata": {
        "colab": {
          "base_uri": "https://localhost:8080/"
        },
        "id": "W-3-on3bZsPE",
        "outputId": "da7f6565-12bf-4bc0-c728-b8a31f1c9c73"
      },
      "execution_count": 76,
      "outputs": [
        {
          "output_type": "stream",
          "name": "stdout",
          "text": [
            "<class 'str'>\n",
            "<class 'str'>\n",
            "<class 'str'>\n",
            "<class 'numpy.float64'>\n",
            "<class 'str'>\n",
            "<class 'str'>\n",
            "<class 'str'>\n",
            "<class 'str'>\n",
            "<class 'str'>\n"
          ]
        }
      ]
    },
    {
      "cell_type": "code",
      "source": [
        "cols=[]\n",
        "for i in ['1','2','L']:\n",
        "  for met in ['precision','recall','f']:\n",
        "    if i=='1' and met=='recall':\n",
        "      continue\n",
        "    cols.append(f'rouge{i}_{met}')"
      ],
      "metadata": {
        "id": "MA3E969yZ0ep"
      },
      "execution_count": 77,
      "outputs": []
    },
    {
      "cell_type": "code",
      "source": [
        "def converttofloat(text):\n",
        "  return float(text.replace('[','').replace(\"'\",'').replace(']',''))"
      ],
      "metadata": {
        "id": "P3lcFvRbaEg2"
      },
      "execution_count": 78,
      "outputs": []
    },
    {
      "cell_type": "code",
      "source": [
        "for col in cols:\n",
        "  df[f'{col}_float']=df[col].apply(converttofloat)"
      ],
      "metadata": {
        "id": "LxQddiOPZ8FX"
      },
      "execution_count": 79,
      "outputs": []
    },
    {
      "cell_type": "code",
      "source": [
        "data={}"
      ],
      "metadata": {
        "id": "eR2DLsKOaOEf"
      },
      "execution_count": 80,
      "outputs": []
    },
    {
      "cell_type": "code",
      "source": [
        "data['hybrid_30']=[]\n",
        "data['hybrid_30']=[(df['rouge1_precision_float'].mean(),df['rouge1_recall'].mean(),df['rouge1_f_float'].mean()),(df['rouge2_precision_float'].mean(),df['rouge2_recall_float'].mean(),df['rouge2_f_float'].mean()),(df['rougeL_precision_float'].mean(),df['rougeL_recall_float'].mean(),df['rougeL_f_float'].mean())]"
      ],
      "metadata": {
        "id": "B53R3d05aMH0"
      },
      "execution_count": 81,
      "outputs": []
    },
    {
      "cell_type": "code",
      "source": [
        "import pandas as pd\n",
        "df=pd.read_csv('/content/hybrid_50_seperate_rouge.csv')"
      ],
      "metadata": {
        "id": "S2gPbRZkaXpN"
      },
      "execution_count": 82,
      "outputs": []
    },
    {
      "cell_type": "code",
      "source": [
        "for col in cols:\n",
        "  df[f'{col}_float']=df[col].apply(converttofloat)"
      ],
      "metadata": {
        "id": "3PiIwZQyalL7"
      },
      "execution_count": 83,
      "outputs": []
    },
    {
      "cell_type": "code",
      "source": [
        "data['hybrid_50']=[]\n",
        "data['hybrid_50']=[(df['rouge1_precision_float'].mean(),df['rouge1_recall'].mean(),df['rouge1_f_float'].mean()),(df['rouge2_precision_float'].mean(),df['rouge2_recall_float'].mean(),df['rouge2_f_float'].mean()),(df['rougeL_precision_float'].mean(),df['rougeL_recall_float'].mean(),df['rougeL_f_float'].mean())]"
      ],
      "metadata": {
        "id": "0ULFeg3kanvl"
      },
      "execution_count": 84,
      "outputs": []
    },
    {
      "cell_type": "code",
      "source": [
        "import pandas as pd\n",
        "df=pd.read_csv('/content/hybrid_70_seperate_rouge.csv')"
      ],
      "metadata": {
        "id": "u3EDKHSOasjU"
      },
      "execution_count": 85,
      "outputs": []
    },
    {
      "cell_type": "code",
      "source": [
        "for col in cols:\n",
        "  df[f'{col}_float']=df[col].apply(converttofloat)"
      ],
      "metadata": {
        "id": "Xn9hac_ra3em"
      },
      "execution_count": 86,
      "outputs": []
    },
    {
      "cell_type": "code",
      "source": [
        "data['hybrid_70']=[]\n",
        "data['hybrid_70']=[(df['rouge1_precision_float'].mean(),df['rouge1_recall'].mean(),df['rouge1_f_float'].mean()),(df['rouge2_precision_float'].mean(),df['rouge2_recall_float'].mean(),df['rouge2_f_float'].mean()),(df['rougeL_precision_float'].mean(),df['rougeL_recall_float'].mean(),df['rougeL_f_float'].mean())]"
      ],
      "metadata": {
        "id": "MO2JUzmca6N_"
      },
      "execution_count": 87,
      "outputs": []
    },
    {
      "cell_type": "code",
      "source": [
        "import pandas as pd\n",
        "df=pd.read_csv('/content/hybrid_70_seperate_rouge.csv')"
      ],
      "metadata": {
        "id": "rRALoI4CbF8w"
      },
      "execution_count": 88,
      "outputs": []
    },
    {
      "cell_type": "code",
      "source": [
        "for col in cols:\n",
        "  df[f'{col}_float']=df[col].apply(converttofloat)"
      ],
      "metadata": {
        "id": "6wZbu736bJHu"
      },
      "execution_count": 89,
      "outputs": []
    },
    {
      "cell_type": "code",
      "source": [
        "data['hybrid_90']=[]\n",
        "data['hybrid_90']=[(df['rouge1_precision_float'].mean(),df['rouge1_recall'].mean(),df['rouge1_f_float'].mean()),(df['rouge2_precision_float'].mean(),df['rouge2_recall_float'].mean(),df['rouge2_f_float'].mean()),(df['rougeL_precision_float'].mean(),df['rougeL_recall_float'].mean(),df['rougeL_f_float'].mean())]"
      ],
      "metadata": {
        "id": "Pi5Cr9S0bLuN"
      },
      "execution_count": 90,
      "outputs": []
    },
    {
      "cell_type": "code",
      "source": [
        "import matplotlib.pyplot as plt\n"
      ],
      "metadata": {
        "id": "VvqOn1JcbPSM"
      },
      "execution_count": 91,
      "outputs": []
    },
    {
      "cell_type": "code",
      "source": [
        "methods=['30','50','70','90']\n",
        "values=[]\n",
        "for met in methods:\n",
        "  values.append(data[f'hybrid_{met}'][0][0])\n",
        "values\n",
        "\n",
        "plt.bar(methods,values)\n",
        "plt.title('ROUGE1 precision - Hybrid TIM model using k% extractive')\n",
        "plt.xlabel(\"Extract k% using Text-rank\")\n",
        "plt.ylabel(\"Precision\")\n",
        "plt.show()"
      ],
      "metadata": {
        "colab": {
          "base_uri": "https://localhost:8080/",
          "height": 295
        },
        "id": "DHJCupCTbTk_",
        "outputId": "6268bf10-d598-4c9b-e731-12193815b1ba"
      },
      "execution_count": 92,
      "outputs": [
        {
          "output_type": "display_data",
          "data": {
            "text/plain": [
              "<Figure size 432x288 with 1 Axes>"
            ],
            "image/png": "[encoded data removed]"
          },
          "metadata": {
            "needs_background": "light"
          }
        }
      ]
    }
  ],
  "metadata": {
    "colab": {
      "name": "nlp_parse_plot.ipynb",
      "provenance": []
    },
    "kernelspec": {
      "display_name": "Python 3",
      "name": "python3"
    },
    "language_info": {
      "name": "python"
    }
  },
  "nbformat": 4,
  "nbformat_minor": 0
}